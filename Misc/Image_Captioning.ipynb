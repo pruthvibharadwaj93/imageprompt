{
  "nbformat": 4,
  "nbformat_minor": 0,
  "metadata": {
    "colab": {
      "provenance": [],
      "authorship_tag": "ABX9TyMeGuL5QqQ0iXJUIU1b6YXA",
      "include_colab_link": true
    },
    "kernelspec": {
      "name": "python3",
      "display_name": "Python 3"
    },
    "language_info": {
      "name": "python"
    }
  },
  "cells": [
    {
      "cell_type": "markdown",
      "metadata": {
        "id": "view-in-github",
        "colab_type": "text"
      },
      "source": [
        "<a href=\"https://colab.research.google.com/github/pruthvibharadwaj93/imageprompt/blob/main/Image_Captioning.ipynb\" target=\"_parent\"><img src=\"https://colab.research.google.com/assets/colab-badge.svg\" alt=\"Open In Colab\"/></a>"
      ]
    },
    {
      "cell_type": "code",
      "execution_count": null,
      "metadata": {
        "colab": {
          "base_uri": "https://localhost:8080/"
        },
        "id": "4RB0b4YEwS09",
        "outputId": "7ac90364-64f1-4d77-a49c-ebc7431ea1ee"
      },
      "outputs": [
        {
          "output_type": "stream",
          "name": "stdout",
          "text": [
            "Looking in indexes: https://pypi.org/simple, https://us-python.pkg.dev/colab-wheels/public/simple/\n",
            "Collecting replicate\n",
            "  Downloading replicate-0.4.0.tar.gz (12 kB)\n",
            "Requirement already satisfied: requests in /usr/local/lib/python3.7/dist-packages (from replicate) (2.23.0)\n",
            "Requirement already satisfied: pydantic in /usr/local/lib/python3.7/dist-packages (from replicate) (1.10.2)\n",
            "Requirement already satisfied: packaging in /usr/local/lib/python3.7/dist-packages (from replicate) (21.3)\n",
            "Requirement already satisfied: pyparsing!=3.0.5,>=2.0.2 in /usr/local/lib/python3.7/dist-packages (from packaging->replicate) (3.0.9)\n",
            "Requirement already satisfied: typing-extensions>=4.1.0 in /usr/local/lib/python3.7/dist-packages (from pydantic->replicate) (4.1.1)\n",
            "Requirement already satisfied: urllib3!=1.25.0,!=1.25.1,<1.26,>=1.21.1 in /usr/local/lib/python3.7/dist-packages (from requests->replicate) (1.24.3)\n",
            "Requirement already satisfied: chardet<4,>=3.0.2 in /usr/local/lib/python3.7/dist-packages (from requests->replicate) (3.0.4)\n",
            "Requirement already satisfied: certifi>=2017.4.17 in /usr/local/lib/python3.7/dist-packages (from requests->replicate) (2022.9.24)\n",
            "Requirement already satisfied: idna<3,>=2.5 in /usr/local/lib/python3.7/dist-packages (from requests->replicate) (2.10)\n",
            "Building wheels for collected packages: replicate\n",
            "  Building wheel for replicate (setup.py) ... \u001b[?25l\u001b[?25hdone\n",
            "  Created wheel for replicate: filename=replicate-0.4.0-py3-none-any.whl size=14147 sha256=a6eaa395291d3d0189b69a6c39372ed49e309e21c43e5a1fba88cf43a0251fc8\n",
            "  Stored in directory: /root/.cache/pip/wheels/e3/5f/cb/bc1b3351faa2fd12ce52998aecfe0a93aed5e4965720a749b1\n",
            "Successfully built replicate\n",
            "Installing collected packages: replicate\n",
            "Successfully installed replicate-0.4.0\n"
          ]
        }
      ],
      "source": [
        "!pip install replicate\n"
      ]
    },
    {
      "cell_type": "code",
      "source": [
        "import replicate"
      ],
      "metadata": {
        "id": "uBuk7P2t0wBi"
      },
      "execution_count": 5,
      "outputs": []
    },
    {
      "cell_type": "code",
      "source": [
        "%env REPLICATE_API_TOKEN=233ee282fa39f9ce34284f52d33985f3d3626a85"
      ],
      "metadata": {
        "colab": {
          "base_uri": "https://localhost:8080/"
        },
        "id": "jY0xK9fK2TNU",
        "outputId": "3b654e1e-0698-4722-e0fc-0711542a33da"
      },
      "execution_count": 13,
      "outputs": [
        {
          "output_type": "stream",
          "name": "stdout",
          "text": [
            "env: REPLICATE_API_TOKEN=233ee282fa39f9ce34284f52d33985f3d3626a85\n"
          ]
        }
      ]
    },
    {
      "cell_type": "code",
      "source": [
        "replicate.Client(api_token='233ee282fa39f9ce34284f52d33985f3d3626a85')"
      ],
      "metadata": {
        "colab": {
          "base_uri": "https://localhost:8080/"
        },
        "id": "GNsiWLXs14aF",
        "outputId": "f5bb5be8-e939-456f-d21a-964d50fe3a53"
      },
      "execution_count": 14,
      "outputs": [
        {
          "output_type": "execute_result",
          "data": {
            "text/plain": [
              "<replicate.client.Client at 0x7f0d22039a90>"
            ]
          },
          "metadata": {},
          "execution_count": 14
        }
      ]
    },
    {
      "cell_type": "code",
      "source": [
        "model = replicate.models.get(\"methexis-inc/img2prompt\")\n"
      ],
      "metadata": {
        "id": "gsjo1LYE0wN5"
      },
      "execution_count": 11,
      "outputs": []
    },
    {
      "cell_type": "code",
      "source": [
        "output = model.predict(image=\"https://replicate.delivery/pbxt/mdDxtG0sZ148JtUwwMonQTak2WysKeqC65ueZgsAri55428PA/out-0.png\")"
      ],
      "metadata": {
        "id": "XmVUDaOu1Fo_"
      },
      "execution_count": 21,
      "outputs": []
    },
    {
      "cell_type": "code",
      "source": [
        "output1 = model.predict(image=\"https://i.natgeofe.com/n/63527567-9a8b-4b08-819d-a6142fb2b350/aurora-kirkjufell-iceland_3x4.jpg\")"
      ],
      "metadata": {
        "id": "ooBrPsyT3cn7"
      },
      "execution_count": 19,
      "outputs": []
    },
    {
      "cell_type": "code",
      "source": [
        "output1"
      ],
      "metadata": {
        "colab": {
          "base_uri": "https://localhost:8080/",
          "height": 53
        },
        "id": "Twfmx5uJ3cw7",
        "outputId": "1005ae28-bdce-41ff-ea78-a8cd9866004c"
      },
      "execution_count": 20,
      "outputs": [
        {
          "output_type": "execute_result",
          "data": {
            "text/plain": [
              "'\\n\\na mountain under a purple and green aurora bore, a photo by Hallsteinn Sigurðsson, flickr contest winner, space art, glowing lights, photo taken with ektachrome, uhd image'"
            ],
            "application/vnd.google.colaboratory.intrinsic+json": {
              "type": "string"
            }
          },
          "metadata": {},
          "execution_count": 20
        }
      ]
    },
    {
      "cell_type": "code",
      "source": [
        "output"
      ],
      "metadata": {
        "colab": {
          "base_uri": "https://localhost:8080/",
          "height": 53
        },
        "id": "QaLGa7yp3Hf_",
        "outputId": "cc7ad6a4-502a-4e24-e749-8412e6defaa4"
      },
      "execution_count": 22,
      "outputs": [
        {
          "output_type": "execute_result",
          "data": {
            "text/plain": [
              "'\\n\\na black and white photo of a man in a suit, a character portrait by Jean Auguste Dominique Ingres, featured on flickr, synthetism, ambrotype, studio portrait, tintype photograph'"
            ],
            "application/vnd.google.colaboratory.intrinsic+json": {
              "type": "string"
            }
          },
          "metadata": {},
          "execution_count": 22
        }
      ]
    },
    {
      "cell_type": "markdown",
      "source": [
        "# New Section"
      ],
      "metadata": {
        "id": "3R7jNSpu1gC6"
      }
    }
  ]
}